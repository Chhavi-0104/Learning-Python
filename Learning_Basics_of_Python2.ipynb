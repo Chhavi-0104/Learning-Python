{
  "nbformat": 4,
  "nbformat_minor": 0,
  "metadata": {
    "colab": {
      "provenance": []
    },
    "kernelspec": {
      "name": "python3",
      "display_name": "Python 3"
    },
    "language_info": {
      "name": "python"
    }
  },
  "cells": [
    {
      "cell_type": "markdown",
      "source": [
        "# **NUMBERS**"
      ],
      "metadata": {
        "id": "c5ZFsSjfD-n2"
      }
    },
    {
      "cell_type": "code",
      "source": [
        "# integer\n",
        "num1 = 1\n",
        "num2 = 35656222554887711\n",
        "num3 = -3255522\n",
        "\n",
        "print(type(num1))\n",
        "print(type(num2))\n",
        "print(type(num3))"
      ],
      "metadata": {
        "colab": {
          "base_uri": "https://localhost:8080/"
        },
        "id": "YIBAcl1k2uVV",
        "outputId": "b4c137ee-cece-4822-fe50-1349be1fcda6"
      },
      "execution_count": 11,
      "outputs": [
        {
          "output_type": "stream",
          "name": "stdout",
          "text": [
            "<class 'int'>\n",
            "<class 'int'>\n",
            "<class 'int'>\n"
          ]
        }
      ]
    },
    {
      "cell_type": "code",
      "source": [
        "# float\n",
        "num1 = 1.0\n",
        "num2 =12E4\n",
        "\n",
        "print(type(num1))\n",
        "print(type(num2))"
      ],
      "metadata": {
        "colab": {
          "base_uri": "https://localhost:8080/"
        },
        "id": "oYNCW9er2uj6",
        "outputId": "bbddf1e5-a532-4772-cb80-941a38a774b0"
      },
      "execution_count": 12,
      "outputs": [
        {
          "output_type": "stream",
          "name": "stdout",
          "text": [
            "<class 'float'>\n",
            "<class 'float'>\n"
          ]
        }
      ]
    },
    {
      "cell_type": "code",
      "source": [
        "# complex\n",
        "num1 = 3+5j\n",
        "num2 = 5j\n",
        "print(type(num1))\n",
        "print(type(num2))"
      ],
      "metadata": {
        "colab": {
          "base_uri": "https://localhost:8080/"
        },
        "id": "ZfsFYMfl2uy6",
        "outputId": "af54fefd-09f8-4acd-fa29-4673d2fb5709"
      },
      "execution_count": 13,
      "outputs": [
        {
          "output_type": "stream",
          "name": "stdout",
          "text": [
            "<class 'complex'>\n",
            "<class 'complex'>\n"
          ]
        }
      ]
    },
    {
      "cell_type": "markdown",
      "source": [
        "# **RANDOM NUMBERS**"
      ],
      "metadata": {
        "id": "NRhHxBlr81pU"
      }
    },
    {
      "cell_type": "code",
      "source": [
        "# random numbers\n",
        "import random\n",
        "print(random.randrange(1, 20))"
      ],
      "metadata": {
        "colab": {
          "base_uri": "https://localhost:8080/"
        },
        "id": "KAAR49Ro44GL",
        "outputId": "313f1331-e872-4de5-a27a-2f3020f20be0"
      },
      "execution_count": 14,
      "outputs": [
        {
          "output_type": "stream",
          "name": "stdout",
          "text": [
            "9\n"
          ]
        }
      ]
    },
    {
      "cell_type": "markdown",
      "source": [
        "# **STRINGS**"
      ],
      "metadata": {
        "id": "7WA_XlPp84GC"
      }
    },
    {
      "cell_type": "code",
      "source": [
        "# strings\n",
        "# Multiline Strings\n",
        "str1 = \"\"\"My name is \n",
        "Chhavi Garg\"\"\"\n",
        "print(str1)"
      ],
      "metadata": {
        "colab": {
          "base_uri": "https://localhost:8080/"
        },
        "id": "pPXJNp3Q44Ny",
        "outputId": "19c8c253-741c-44d4-ae8c-2697a0a2695a"
      },
      "execution_count": 15,
      "outputs": [
        {
          "output_type": "stream",
          "name": "stdout",
          "text": [
            "My name is \n",
            "Chhavi Garg\n"
          ]
        }
      ]
    },
    {
      "cell_type": "code",
      "source": [
        "# string as array\n",
        "str1 = \"Chhavi Garg\"\n",
        "print(str1[1])"
      ],
      "metadata": {
        "colab": {
          "base_uri": "https://localhost:8080/"
        },
        "id": "ghuZHRwq44VS",
        "outputId": "8cad81de-f993-4956-9e59-f19702ee2ccb"
      },
      "execution_count": 16,
      "outputs": [
        {
          "output_type": "stream",
          "name": "stdout",
          "text": [
            "h\n"
          ]
        }
      ]
    },
    {
      "cell_type": "code",
      "source": [
        "# length of string\n",
        "print(len(str1))"
      ],
      "metadata": {
        "colab": {
          "base_uri": "https://localhost:8080/"
        },
        "id": "6nAX3qsT5srb",
        "outputId": "4d57e865-659c-432b-d863-04173fb292ce"
      },
      "execution_count": 17,
      "outputs": [
        {
          "output_type": "stream",
          "name": "stdout",
          "text": [
            "11\n"
          ]
        }
      ]
    },
    {
      "cell_type": "code",
      "source": [
        "# check for string\n",
        "print(\"Garg\" in str1)\n",
        "# llly not in"
      ],
      "metadata": {
        "colab": {
          "base_uri": "https://localhost:8080/"
        },
        "id": "2mPhGY415szS",
        "outputId": "1859250b-30a0-4262-93b0-8ad07017cc4b"
      },
      "execution_count": 18,
      "outputs": [
        {
          "output_type": "stream",
          "name": "stdout",
          "text": [
            "True\n"
          ]
        }
      ]
    },
    {
      "cell_type": "code",
      "source": [
        "# slicing strings\n",
        "print(str1[2:5])\n",
        "print(str1[:5])\n",
        "print(str1[2:])\n",
        "print(str1[-5:-2])"
      ],
      "metadata": {
        "colab": {
          "base_uri": "https://localhost:8080/"
        },
        "id": "59yLoiNF5s8Y",
        "outputId": "5ff965b9-078b-46d3-dbac-3390d4a9e6a1"
      },
      "execution_count": 23,
      "outputs": [
        {
          "output_type": "stream",
          "name": "stdout",
          "text": [
            "hav\n",
            "Chhav\n",
            "havi Garg\n",
            " Ga\n"
          ]
        }
      ]
    },
    {
      "cell_type": "code",
      "source": [
        "# modifying string\n",
        "print(str1.upper())\n",
        "print(str1.lower())\n",
        "print(str1.strip())\n",
        "print(str1.replace(\"C\", \"J\"))\n",
        "print(str1.split(\" \"))"
      ],
      "metadata": {
        "colab": {
          "base_uri": "https://localhost:8080/"
        },
        "id": "oA86W8lI6gJP",
        "outputId": "480e743d-1646-4542-f277-67d2fb0eceee"
      },
      "execution_count": 25,
      "outputs": [
        {
          "output_type": "stream",
          "name": "stdout",
          "text": [
            "CHHAVI GARG\n",
            "chhavi garg\n",
            "Chhavi Garg\n",
            "Jhhavi Garg\n",
            "['Chhavi', 'Garg']\n"
          ]
        }
      ]
    },
    {
      "cell_type": "code",
      "source": [
        "# String concatanation\n",
        "fname = \"Chhavi\"\n",
        "lname = \"Garg\"\n",
        "fullname = fname + lname\n",
        "print(fullname)\n",
        "fullname1 = fname+\" \"+lname\n",
        "print(fullname1)"
      ],
      "metadata": {
        "colab": {
          "base_uri": "https://localhost:8080/"
        },
        "id": "J8b0KbLy6gQo",
        "outputId": "6d451eb9-5a81-4cf3-db3b-2118b9aa9015"
      },
      "execution_count": 27,
      "outputs": [
        {
          "output_type": "stream",
          "name": "stdout",
          "text": [
            "ChhaviGarg\n",
            "Chhavi Garg\n"
          ]
        }
      ]
    },
    {
      "cell_type": "code",
      "source": [
        "# format strings\n",
        "name = \"Chhavi Garg\"\n",
        "txt = \"My name is {}\"\n",
        "print(txt.format(name))"
      ],
      "metadata": {
        "colab": {
          "base_uri": "https://localhost:8080/"
        },
        "id": "3OpTKAxQ6gYc",
        "outputId": "95dc0235-7101-428e-afac-b502a8dd9b28"
      },
      "execution_count": 28,
      "outputs": [
        {
          "output_type": "stream",
          "name": "stdout",
          "text": [
            "My name is Chhavi Garg\n"
          ]
        }
      ]
    },
    {
      "cell_type": "code",
      "source": [
        "fname = \"Chhavi\"\n",
        "lname = \"Garg\"\n",
        "fullname = \"My name is {1} {0}\"\n",
        "print(fullname.format(lname, fname))"
      ],
      "metadata": {
        "colab": {
          "base_uri": "https://localhost:8080/"
        },
        "id": "uZmS8KcA7pmc",
        "outputId": "fe55077a-08e9-4002-f0e8-62e141282f3b"
      },
      "execution_count": 30,
      "outputs": [
        {
          "output_type": "stream",
          "name": "stdout",
          "text": [
            "My name is Chhavi Garg\n"
          ]
        }
      ]
    },
    {
      "cell_type": "code",
      "source": [
        "# escape characters\n",
        "txt = \"We are the so-called \\\"Vikings\\\" from the north.\"\n",
        "print(txt)"
      ],
      "metadata": {
        "colab": {
          "base_uri": "https://localhost:8080/"
        },
        "id": "l7n4DaOA7pt5",
        "outputId": "05fec0e4-960a-482d-8b33-c3488b543592"
      },
      "execution_count": 31,
      "outputs": [
        {
          "output_type": "stream",
          "name": "stdout",
          "text": [
            "We are the so-called \"Vikings\" from the north.\n"
          ]
        }
      ]
    },
    {
      "cell_type": "markdown",
      "source": [
        "# **BOOLEAN**"
      ],
      "metadata": {
        "id": "9k6GxQDG86pM"
      }
    },
    {
      "cell_type": "code",
      "source": [
        "# Boolean\n",
        "print(bool(\"Hello\"))\n",
        "print(bool(15))"
      ],
      "metadata": {
        "colab": {
          "base_uri": "https://localhost:8080/"
        },
        "id": "m6FpdAhA8kow",
        "outputId": "722151f8-2e07-4f6f-c2f7-4104cc0a80e6"
      },
      "execution_count": 32,
      "outputs": [
        {
          "output_type": "stream",
          "name": "stdout",
          "text": [
            "True\n",
            "True\n"
          ]
        }
      ]
    },
    {
      "cell_type": "code",
      "source": [
        "# false values\n",
        "bool(False)\n",
        "bool(None)\n",
        "bool(0)\n",
        "bool(\"\")\n",
        "bool(())\n",
        "bool([])\n",
        "bool({})\n"
      ],
      "metadata": {
        "colab": {
          "base_uri": "https://localhost:8080/"
        },
        "id": "3XlUGmnf8ktW",
        "outputId": "5ac1e72d-580a-462d-e058-8072db42ce98"
      },
      "execution_count": 33,
      "outputs": [
        {
          "output_type": "execute_result",
          "data": {
            "text/plain": [
              "False"
            ]
          },
          "metadata": {},
          "execution_count": 33
        }
      ]
    },
    {
      "cell_type": "code",
      "source": [
        "x = 200\n",
        "print(isinstance(x, int))"
      ],
      "metadata": {
        "colab": {
          "base_uri": "https://localhost:8080/"
        },
        "id": "Md5adKtp8kwl",
        "outputId": "79b6cd49-ea7f-4887-f29b-d90362a0e83e"
      },
      "execution_count": 34,
      "outputs": [
        {
          "output_type": "stream",
          "name": "stdout",
          "text": [
            "True\n"
          ]
        }
      ]
    },
    {
      "cell_type": "markdown",
      "source": [
        "# **LISTS**"
      ],
      "metadata": {
        "id": "RL3AxwWH9Ub9"
      }
    },
    {
      "cell_type": "code",
      "source": [
        "#list\n",
        "# ordered,changeable, allow duplicate\n",
        "# A list can contain different data types\n",
        "fruits = [\"apple\", \"banana\", \"cherry\"]\n",
        "#fruits = list((\"apple\", \"banana\", \"cherry\"))\n",
        "print(fruits)\n",
        "print(len(fruits))\n",
        "print(type(fruits))"
      ],
      "metadata": {
        "colab": {
          "base_uri": "https://localhost:8080/"
        },
        "id": "XbDgrs-28kzt",
        "outputId": "b01c008a-e000-40fb-fd6e-d0be073bc22f"
      },
      "execution_count": 37,
      "outputs": [
        {
          "output_type": "stream",
          "name": "stdout",
          "text": [
            "['apple', 'banana', 'cherry']\n",
            "3\n",
            "<class 'list'>\n"
          ]
        }
      ]
    },
    {
      "cell_type": "code",
      "source": [
        "# accessing list items\n",
        "print(fruits[1])\n",
        "print(fruits[-1])\n",
        "print(fruits[2:3])\n",
        "print(\"apple\" in fruits)"
      ],
      "metadata": {
        "colab": {
          "base_uri": "https://localhost:8080/"
        },
        "id": "ZHicd2da9W9P",
        "outputId": "8fc09a28-4124-43e1-a56d-b5a443d451e2"
      },
      "execution_count": 40,
      "outputs": [
        {
          "output_type": "stream",
          "name": "stdout",
          "text": [
            "banana\n",
            "cherry\n",
            "['cherry']\n",
            "True\n"
          ]
        }
      ]
    },
    {
      "cell_type": "code",
      "source": [
        "# change list items\n",
        "fruits[1] = \"orange\"\n",
        "print(fruits)\n",
        "fruits[0:1]=[\"strawberry\",\"papaya\"]\n",
        "print(fruits)\n",
        "fruits.insert(2, \"watermelon\")\n",
        "print(fruits)"
      ],
      "metadata": {
        "colab": {
          "base_uri": "https://localhost:8080/"
        },
        "id": "68mYe7b_9XBS",
        "outputId": "a3a2e367-06ee-4d1c-a457-f66706c9cb87"
      },
      "execution_count": 43,
      "outputs": [
        {
          "output_type": "stream",
          "name": "stdout",
          "text": [
            "['strawberry', 'orange', 'orange', 'cherry']\n",
            "['strawberry', 'papaya', 'orange', 'orange', 'cherry']\n",
            "['strawberry', 'papaya', 'watermelon', 'orange', 'orange', 'cherry']\n"
          ]
        }
      ]
    },
    {
      "cell_type": "code",
      "source": [
        "# add items\n",
        "fruits.append(\"mango\")\n",
        "print(fruits)"
      ],
      "metadata": {
        "colab": {
          "base_uri": "https://localhost:8080/"
        },
        "id": "7WkHhs9w9XFd",
        "outputId": "12a88bb2-aed3-40a1-b12b-7af352b4c46f"
      },
      "execution_count": 44,
      "outputs": [
        {
          "output_type": "stream",
          "name": "stdout",
          "text": [
            "['strawberry', 'papaya', 'watermelon', 'orange', 'orange', 'cherry', 'mango']\n"
          ]
        }
      ]
    },
    {
      "cell_type": "code",
      "source": [
        "# append list\n",
        "num = [1,2,3]\n",
        "fruits.extend(num)\n",
        "print(fruits)"
      ],
      "metadata": {
        "colab": {
          "base_uri": "https://localhost:8080/"
        },
        "id": "X1AcfYkZAIRT",
        "outputId": "d4a9084d-47d5-441f-f85d-c1953ad7e423"
      },
      "execution_count": 46,
      "outputs": [
        {
          "output_type": "stream",
          "name": "stdout",
          "text": [
            "['strawberry', 'papaya', 'watermelon', 'orange', 'orange', 'cherry', 'mango', [1, 2, 3], 1, 2, 3]\n"
          ]
        }
      ]
    },
    {
      "cell_type": "code",
      "source": [
        "# remove items\n",
        "fruits.pop(5)\n",
        "#fruits.remove(\"orange\")\n",
        "print(fruits)"
      ],
      "metadata": {
        "colab": {
          "base_uri": "https://localhost:8080/"
        },
        "id": "S0pZMSJbAIY-",
        "outputId": "d87decf9-29f4-42e5-e4dc-e696ba8a4dc8"
      },
      "execution_count": 59,
      "outputs": [
        {
          "output_type": "stream",
          "name": "stdout",
          "text": [
            "['papaya', 'watermelon', 'orange', 'cherry', 'mango']\n"
          ]
        }
      ]
    },
    {
      "cell_type": "code",
      "source": [
        "del fruits[0]\n",
        "print(fruits)\n",
        "# fruits.clear()"
      ],
      "metadata": {
        "colab": {
          "base_uri": "https://localhost:8080/"
        },
        "id": "Kh8f_Q93AIdg",
        "outputId": "4343ec64-9bc0-4405-8a3b-3bccbd059d26"
      },
      "execution_count": 48,
      "outputs": [
        {
          "output_type": "stream",
          "name": "stdout",
          "text": [
            "['papaya', 'watermelon', 'orange', 'cherry', 'mango', 1, 2, 3]\n"
          ]
        }
      ]
    },
    {
      "cell_type": "code",
      "source": [
        "# looping through list\n",
        "for x in fruits:\n",
        "  print(x)\n",
        "\n",
        "for i in range(len(fruits)):\n",
        "  print(fruits[i])\n",
        "\n",
        "i = 0\n",
        "while i < len(fruits):\n",
        "  print(fruits[i])\n",
        "  i+=1"
      ],
      "metadata": {
        "colab": {
          "base_uri": "https://localhost:8080/"
        },
        "id": "3CXOtjhqBGVf",
        "outputId": "f997f59b-fb89-4c55-dc77-f4e505451db0"
      },
      "execution_count": 54,
      "outputs": [
        {
          "output_type": "stream",
          "name": "stdout",
          "text": [
            "papaya\n",
            "watermelon\n",
            "orange\n",
            "cherry\n",
            "mango\n",
            "1\n",
            "2\n",
            "3\n",
            "papaya\n",
            "watermelon\n",
            "orange\n",
            "cherry\n",
            "mango\n",
            "1\n",
            "2\n",
            "3\n",
            "papaya\n",
            "watermelon\n",
            "orange\n",
            "cherry\n",
            "mango\n",
            "1\n",
            "2\n",
            "3\n"
          ]
        }
      ]
    },
    {
      "cell_type": "code",
      "source": [
        "# list Comprehension\n",
        "[print(x) for x in fruits]\n",
        "\n",
        "newlist = [x for x in fruits if \"a\" in x]\n",
        "print(newlist)\n",
        "\n",
        "newlist1 = [x for x in range(10)]\n",
        "print(newlist1)\n",
        "\n",
        "newlist2 = [x.upper() for x in fruits]\n",
        "print(newlist2)"
      ],
      "metadata": {
        "colab": {
          "base_uri": "https://localhost:8080/"
        },
        "id": "ffcPf8eYBGX8",
        "outputId": "59034aec-ed99-464f-80d6-fe3a8ff4831e"
      },
      "execution_count": 63,
      "outputs": [
        {
          "output_type": "stream",
          "name": "stdout",
          "text": [
            "papaya\n",
            "watermelon\n",
            "orange\n",
            "cherry\n",
            "mango\n",
            "['papaya', 'watermelon', 'orange', 'mango']\n",
            "[0, 1, 2, 3, 4, 5, 6, 7, 8, 9]\n",
            "['PAPAYA', 'WATERMELON', 'ORANGE', 'CHERRY', 'MANGO']\n"
          ]
        }
      ]
    },
    {
      "cell_type": "code",
      "source": [
        "# sort a list\n",
        "fruits.sort()\n",
        "print(fruits)\n",
        "\n",
        "num = [100, 50, 65, 82, 23]\n",
        "num.sort(reverse = True)\n",
        "print(num)\n",
        "\n",
        "fruits.reverse()\n",
        "print(fruits)"
      ],
      "metadata": {
        "colab": {
          "base_uri": "https://localhost:8080/"
        },
        "id": "gzW40bHfBGbF",
        "outputId": "23f55e0c-bf2a-4f32-c261-5c46ee67a5d9"
      },
      "execution_count": 66,
      "outputs": [
        {
          "output_type": "stream",
          "name": "stdout",
          "text": [
            "['cherry', 'mango', 'orange', 'papaya', 'watermelon']\n",
            "[100, 82, 65, 50, 23]\n",
            "['watermelon', 'papaya', 'orange', 'mango', 'cherry']\n"
          ]
        }
      ]
    },
    {
      "cell_type": "code",
      "source": [
        "# copy list\n",
        "newfruits = fruits.copy()\n",
        "print(newfruits)"
      ],
      "metadata": {
        "colab": {
          "base_uri": "https://localhost:8080/"
        },
        "id": "7XqPnPXiCvo9",
        "outputId": "ddd87de8-f91a-4156-9e0f-b9d4b6a83ea5"
      },
      "execution_count": 67,
      "outputs": [
        {
          "output_type": "stream",
          "name": "stdout",
          "text": [
            "['watermelon', 'papaya', 'orange', 'mango', 'cherry']\n"
          ]
        }
      ]
    },
    {
      "cell_type": "code",
      "source": [
        "#joining two list\n",
        "list1 = [\"a\", \"b\", \"c\"]\n",
        "list2 = [1, 2, 3]\n",
        "\n",
        "list3 = list1 + list2\n",
        "list1.extend(list2)\n",
        "print(list1)\n",
        "print(list3)"
      ],
      "metadata": {
        "colab": {
          "base_uri": "https://localhost:8080/"
        },
        "id": "hEQjN6puCvrh",
        "outputId": "9dccbdbe-4f76-4b6d-f087-7f9a208b2083"
      },
      "execution_count": 69,
      "outputs": [
        {
          "output_type": "stream",
          "name": "stdout",
          "text": [
            "['a', 'b', 'c', 1, 2, 3]\n",
            "['a', 'b', 'c', 1, 2, 3]\n"
          ]
        }
      ]
    },
    {
      "cell_type": "markdown",
      "source": [
        "# **TUPLES**"
      ],
      "metadata": {
        "id": "m4Nis6w1DtTf"
      }
    },
    {
      "cell_type": "code",
      "source": [
        "#tuples\n",
        "#ordered ,unchangeable, allows duplicate\n",
        "#A tuple can contain different data types\n",
        "fruits = (\"apple\", \"banana\", \"cherry\")\n",
        "print(len(fruits))\n",
        "print(type(fruits))"
      ],
      "metadata": {
        "colab": {
          "base_uri": "https://localhost:8080/"
        },
        "id": "UxGXZPuZCvte",
        "outputId": "3a424a64-f2ec-4e07-9910-28801e0a124e"
      },
      "execution_count": 70,
      "outputs": [
        {
          "output_type": "stream",
          "name": "stdout",
          "text": [
            "3\n",
            "<class 'tuple'>\n"
          ]
        }
      ]
    },
    {
      "cell_type": "code",
      "source": [
        "# access tuples\n",
        "print(fruits[1])\n",
        "print(fruits[2:5])\n",
        "print(\"apple\" in fruits)"
      ],
      "metadata": {
        "colab": {
          "base_uri": "https://localhost:8080/"
        },
        "id": "RtzwhC__BGdb",
        "outputId": "a306a9aa-9d99-469b-a4cb-2ef2aa78e182"
      },
      "execution_count": 71,
      "outputs": [
        {
          "output_type": "stream",
          "name": "stdout",
          "text": [
            "banana\n",
            "('cherry',)\n",
            "True\n"
          ]
        }
      ]
    },
    {
      "cell_type": "code",
      "source": [
        "# update tuple\n",
        "# We cannot modify tuples directly\n",
        "y = list(fruits)\n",
        "y[1] = \"kiwi\"\n",
        "fruits= tuple(y)\n",
        "print(fruits)\n",
        "\n",
        "y.append(\"orange\")\n",
        "fruits= tuple(y)\n",
        "print(fruits)\n",
        "\n",
        "y.remove(\"orange\")\n",
        "fruits= tuple(y)\n",
        "print(fruits)\n"
      ],
      "metadata": {
        "colab": {
          "base_uri": "https://localhost:8080/"
        },
        "id": "817ey1sVFZt2",
        "outputId": "465a18a6-e2c3-464a-96d2-6b178f7088ba"
      },
      "execution_count": 74,
      "outputs": [
        {
          "output_type": "stream",
          "name": "stdout",
          "text": [
            "('apple', 'kiwi', 'cherry', 'orange')\n",
            "('apple', 'kiwi', 'cherry', 'orange', 'orange')\n",
            "('apple', 'kiwi', 'cherry', 'orange')\n"
          ]
        }
      ]
    },
    {
      "cell_type": "code",
      "source": [
        "# unpacking a tuple\n",
        "(red, green, pink, orange) = fruits\n",
        "print(red)"
      ],
      "metadata": {
        "colab": {
          "base_uri": "https://localhost:8080/"
        },
        "id": "VYNi0aPjFZwH",
        "outputId": "472e4545-d84c-4db5-ea43-2e4a7f1a4e53"
      },
      "execution_count": 75,
      "outputs": [
        {
          "output_type": "stream",
          "name": "stdout",
          "text": [
            "apple\n"
          ]
        }
      ]
    },
    {
      "cell_type": "code",
      "source": [
        "# loop through tuples\n",
        "for x in fruits:\n",
        "  print(x)"
      ],
      "metadata": {
        "colab": {
          "base_uri": "https://localhost:8080/"
        },
        "id": "_grtgOR4FZ0g",
        "outputId": "2aad6edf-820b-439c-bc97-2c713991b16d"
      },
      "execution_count": 76,
      "outputs": [
        {
          "output_type": "stream",
          "name": "stdout",
          "text": [
            "apple\n",
            "kiwi\n",
            "cherry\n",
            "orange\n"
          ]
        }
      ]
    },
    {
      "cell_type": "code",
      "source": [
        "# joining tuples\n",
        "tuple1 = (\"a\", \"b\" , \"c\")\n",
        "tuple2 = (1, 2, 3)\n",
        "\n",
        "tuple3 = tuple1 + tuple2\n",
        "print(tuple3)\n",
        "\n",
        "mytuple = fruits * 2\n",
        "print(mytuple)"
      ],
      "metadata": {
        "colab": {
          "base_uri": "https://localhost:8080/"
        },
        "id": "C1OQlIcYFZ2s",
        "outputId": "52521bea-bc8b-4067-e0a5-41f9a3bc29fe"
      },
      "execution_count": 78,
      "outputs": [
        {
          "output_type": "stream",
          "name": "stdout",
          "text": [
            "('a', 'b', 'c', 1, 2, 3)\n",
            "('apple', 'kiwi', 'cherry', 'orange', 'apple', 'kiwi', 'cherry', 'orange')\n"
          ]
        }
      ]
    },
    {
      "cell_type": "markdown",
      "source": [
        "# **SETS**"
      ],
      "metadata": {
        "id": "pi5yaXcXGyOE"
      }
    },
    {
      "cell_type": "code",
      "source": [
        "#sets\n",
        "#unordered, unchangeable, unindexed ,No duplicate\n",
        "#A set can contain different data types\n",
        "fruits = {\"apple\", \"banana\", \"cherry\", \"apple\"}\n",
        "print(fruits)\n",
        "print(len(fruits))\n",
        "print(type(fruits))"
      ],
      "metadata": {
        "colab": {
          "base_uri": "https://localhost:8080/"
        },
        "id": "iBHnkrzDFZ4j",
        "outputId": "9a08d971-b41e-40ec-c872-c6a9577cc74c"
      },
      "execution_count": 81,
      "outputs": [
        {
          "output_type": "stream",
          "name": "stdout",
          "text": [
            "{'cherry', 'apple', 'banana'}\n",
            "3\n",
            "<class 'set'>\n"
          ]
        }
      ]
    },
    {
      "cell_type": "code",
      "source": [
        "#access set items\n",
        "for x in fruits:\n",
        "  print(x)\n"
      ],
      "metadata": {
        "colab": {
          "base_uri": "https://localhost:8080/"
        },
        "id": "gy8hmwgGHTAZ",
        "outputId": "a5bfb0ee-3685-4415-a105-d029fe22070f"
      },
      "execution_count": 82,
      "outputs": [
        {
          "output_type": "stream",
          "name": "stdout",
          "text": [
            "cherry\n",
            "apple\n",
            "banana\n"
          ]
        }
      ]
    },
    {
      "cell_type": "code",
      "source": [
        "#Once a set is created, you cannot change its items, but you can add new items."
      ],
      "metadata": {
        "id": "42oGf33BHTDB"
      },
      "execution_count": null,
      "outputs": []
    },
    {
      "cell_type": "code",
      "source": [
        "# add set items\n",
        "fruits.add(\"orange\")\n",
        "print(fruits)"
      ],
      "metadata": {
        "colab": {
          "base_uri": "https://localhost:8080/"
        },
        "id": "v90W6SzLHTGW",
        "outputId": "68711ca4-8088-40f8-eef4-9276565bd268"
      },
      "execution_count": 84,
      "outputs": [
        {
          "output_type": "stream",
          "name": "stdout",
          "text": [
            "{'cherry', 'orange', 'apple', 'banana'}\n"
          ]
        }
      ]
    },
    {
      "cell_type": "code",
      "source": [
        "# remove set items\n",
        "fruits.remove(\"orange\")\n",
        "# If the item to remove does not exist, remove() will raise an error.\n",
        "print(fruits)\n",
        "fruits.discard(\"apple\")\n",
        "print(fruits)"
      ],
      "metadata": {
        "colab": {
          "base_uri": "https://localhost:8080/"
        },
        "id": "PBjRXWaRHTI4",
        "outputId": "35e35b19-0704-4c45-b8cc-bede77971712"
      },
      "execution_count": 87,
      "outputs": [
        {
          "output_type": "stream",
          "name": "stdout",
          "text": [
            "{'cherry', 'banana'}\n",
            "{'cherry', 'banana'}\n"
          ]
        }
      ]
    },
    {
      "cell_type": "code",
      "source": [
        "x = fruits.pop()\n",
        "print(x)"
      ],
      "metadata": {
        "colab": {
          "base_uri": "https://localhost:8080/"
        },
        "id": "i0ZG6P95IJr9",
        "outputId": "938590a4-d100-4113-e904-bfbbb4daab8f"
      },
      "execution_count": 88,
      "outputs": [
        {
          "output_type": "stream",
          "name": "stdout",
          "text": [
            "cherry\n"
          ]
        }
      ]
    },
    {
      "cell_type": "code",
      "source": [
        "# loop through sets\n",
        "for x in fruits:\n",
        "  print(x)"
      ],
      "metadata": {
        "colab": {
          "base_uri": "https://localhost:8080/"
        },
        "id": "1mCYXs6jIUtB",
        "outputId": "a2e9e368-6019-4838-bb59-3f59723a5b27"
      },
      "execution_count": 89,
      "outputs": [
        {
          "output_type": "stream",
          "name": "stdout",
          "text": [
            "banana\n"
          ]
        }
      ]
    },
    {
      "cell_type": "code",
      "source": [
        "# join sets (union) not +\n",
        "set1 = {\"a\", \"b\" , \"c\"}\n",
        "set2 = {1, 2, 3}\n",
        "#set1.update(set2)\n",
        "set3 = set1.union(set2)\n",
        "print(set3)"
      ],
      "metadata": {
        "colab": {
          "base_uri": "https://localhost:8080/"
        },
        "id": "US9YotATIUvY",
        "outputId": "25c8633b-b221-4c9e-d0fa-fa0dcabd7780"
      },
      "execution_count": 90,
      "outputs": [
        {
          "output_type": "stream",
          "name": "stdout",
          "text": [
            "{'a', 1, 2, 3, 'c', 'b'}\n"
          ]
        }
      ]
    },
    {
      "cell_type": "code",
      "source": [
        "set1.intersection_update(set2)\n",
        "print(set1)"
      ],
      "metadata": {
        "colab": {
          "base_uri": "https://localhost:8080/"
        },
        "id": "LxGtN_BrIUxi",
        "outputId": "088008b6-e7ee-4698-ab63-b169be73b2d2"
      },
      "execution_count": 91,
      "outputs": [
        {
          "output_type": "stream",
          "name": "stdout",
          "text": [
            "set()\n"
          ]
        }
      ]
    },
    {
      "cell_type": "code",
      "source": [
        "# symmetric difference\n",
        "x = {\"apple\", \"banana\", \"cherry\"}\n",
        "y = {\"google\", \"microsoft\", \"apple\"}\n",
        "\n",
        "z = x.symmetric_difference(y)\n",
        "\n",
        "print(z)"
      ],
      "metadata": {
        "colab": {
          "base_uri": "https://localhost:8080/"
        },
        "id": "cuuoYlFRI7R7",
        "outputId": "c417619c-bd62-4e1a-ab75-5f0bcaca1936"
      },
      "execution_count": 92,
      "outputs": [
        {
          "output_type": "stream",
          "name": "stdout",
          "text": [
            "{'cherry', 'google', 'microsoft', 'banana'}\n"
          ]
        }
      ]
    },
    {
      "cell_type": "markdown",
      "source": [
        "# **DICTIONARY**"
      ],
      "metadata": {
        "id": "MsZe9gJ2JLBY"
      }
    },
    {
      "cell_type": "code",
      "source": [
        "#dictionary\n",
        "#ordered , changeable, No duplicate keys\n",
        "People = {\n",
        "  \"name\": \"Chhavi\",\n",
        "  \"year\": 2001\n",
        "}\n",
        "print(People[\"name\"])\n",
        "print(len(People))\n",
        "print(type(People))"
      ],
      "metadata": {
        "colab": {
          "base_uri": "https://localhost:8080/"
        },
        "id": "Gl6-CdEBI7UJ",
        "outputId": "360a69f4-3b52-42b6-e4b9-c532b00d79b5"
      },
      "execution_count": 96,
      "outputs": [
        {
          "output_type": "stream",
          "name": "stdout",
          "text": [
            "Chhavi\n",
            "2\n",
            "<class 'dict'>\n"
          ]
        }
      ]
    },
    {
      "cell_type": "code",
      "source": [
        "# access dictionary\n",
        "print(People.get(\"year\"))\n",
        "print(People.keys())\n",
        "print(People.values())\n",
        "print(People.items())\n",
        "#checking key exixtance\n",
        "print(\"name\" in People)"
      ],
      "metadata": {
        "colab": {
          "base_uri": "https://localhost:8080/"
        },
        "id": "9uDs2RxZKF3B",
        "outputId": "d233906f-9719-4d05-f932-8e6cfea2cb93"
      },
      "execution_count": 102,
      "outputs": [
        {
          "output_type": "stream",
          "name": "stdout",
          "text": [
            "2001\n",
            "dict_keys(['name', 'year'])\n",
            "dict_values(['Chhavi', 2001])\n",
            "dict_items([('name', 'Chhavi'), ('year', 2001)])\n",
            "True\n"
          ]
        }
      ]
    },
    {
      "cell_type": "code",
      "source": [
        "# change items\n",
        "People[\"year\"] = 2002\n",
        "print(People)\n",
        "\n",
        "People.update({\"year\": 2020})"
      ],
      "metadata": {
        "colab": {
          "base_uri": "https://localhost:8080/"
        },
        "id": "QXZ-nEsuKF5X",
        "outputId": "b53d6e34-ba53-4991-e1bb-0746e4cca172"
      },
      "execution_count": 106,
      "outputs": [
        {
          "output_type": "stream",
          "name": "stdout",
          "text": [
            "{'name': 'Chhavi', 'year': 2002, 'gender': 'female'}\n"
          ]
        }
      ]
    },
    {
      "cell_type": "code",
      "source": [
        "# add items\n",
        "People[\"gender\"] = \"female\"\n",
        "People.update({\"age\": 21})\n",
        "print(People)"
      ],
      "metadata": {
        "colab": {
          "base_uri": "https://localhost:8080/"
        },
        "id": "VhrT8mVoKGW1",
        "outputId": "dec62569-65f7-40c9-834b-65631f7643e9"
      },
      "execution_count": 107,
      "outputs": [
        {
          "output_type": "stream",
          "name": "stdout",
          "text": [
            "{'name': 'Chhavi', 'year': 2020, 'gender': 'female', 'age': 21}\n"
          ]
        }
      ]
    },
    {
      "cell_type": "code",
      "source": [
        "# remove items\n",
        "People.pop(\"age\")\n",
        "print(People)"
      ],
      "metadata": {
        "colab": {
          "base_uri": "https://localhost:8080/"
        },
        "id": "yMNRw7-8LWV0",
        "outputId": "61e6c4d9-acb6-461b-90f2-e372ecfcb577"
      },
      "execution_count": 108,
      "outputs": [
        {
          "output_type": "stream",
          "name": "stdout",
          "text": [
            "{'name': 'Chhavi', 'year': 2020, 'gender': 'female'}\n"
          ]
        }
      ]
    },
    {
      "cell_type": "code",
      "source": [
        "# looping through dictionaries\n",
        "for x in People:\n",
        "  print(People[x])\n",
        "\n",
        "for x in People.values():\n",
        "  print(x)\n",
        "\n",
        "for x, y in People.items():\n",
        "  print(x, y)"
      ],
      "metadata": {
        "colab": {
          "base_uri": "https://localhost:8080/"
        },
        "id": "CVSzv-N4LWYO",
        "outputId": "390747f6-8248-49e4-c8b8-66a1caac8e40"
      },
      "execution_count": 109,
      "outputs": [
        {
          "output_type": "stream",
          "name": "stdout",
          "text": [
            "Chhavi\n",
            "2020\n",
            "female\n",
            "Chhavi\n",
            "2020\n",
            "female\n",
            "name Chhavi\n",
            "year 2020\n",
            "gender female\n"
          ]
        }
      ]
    },
    {
      "cell_type": "code",
      "source": [
        "# copy dictionary\n",
        "newdict = People.copy()\n",
        "print(newdict)"
      ],
      "metadata": {
        "colab": {
          "base_uri": "https://localhost:8080/"
        },
        "id": "DIOijlR4LWad",
        "outputId": "0270106d-1ecc-4fc7-8bf3-e089dd2cf4a4"
      },
      "execution_count": 110,
      "outputs": [
        {
          "output_type": "stream",
          "name": "stdout",
          "text": [
            "{'name': 'Chhavi', 'year': 2020, 'gender': 'female'}\n"
          ]
        }
      ]
    },
    {
      "cell_type": "code",
      "source": [
        "# nested dictionary\n",
        "myfamily = {\n",
        "  \"child1\" : {\n",
        "    \"name\" : \"Emil\",\n",
        "    \"year\" : 2004\n",
        "  },\n",
        "  \"child2\" : {\n",
        "    \"name\" : \"Tobias\",\n",
        "    \"year\" : 2007\n",
        "  },\n",
        "  \"child3\" : {\n",
        "    \"name\" : \"Linus\",\n",
        "    \"year\" : 2011\n",
        "  }\n",
        "}\n",
        "print(myfamily[\"child1\"])"
      ],
      "metadata": {
        "colab": {
          "base_uri": "https://localhost:8080/"
        },
        "id": "8Ik3HhaaMM4Q",
        "outputId": "c35d6490-57e3-4a52-d160-513832218d45"
      },
      "execution_count": 111,
      "outputs": [
        {
          "output_type": "stream",
          "name": "stdout",
          "text": [
            "{'name': 'Emil', 'year': 2004}\n"
          ]
        }
      ]
    }
  ]
}