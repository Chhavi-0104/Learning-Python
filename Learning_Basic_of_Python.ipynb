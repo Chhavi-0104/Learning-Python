{
  "nbformat": 4,
  "nbformat_minor": 0,
  "metadata": {
    "colab": {
      "provenance": []
    },
    "kernelspec": {
      "name": "python3",
      "display_name": "Python 3"
    },
    "language_info": {
      "name": "python"
    }
  },
  "cells": [
    {
      "cell_type": "code",
      "execution_count": 23,
      "metadata": {
        "colab": {
          "base_uri": "https://localhost:8080/"
        },
        "id": "5CH4IoPPoMDn",
        "outputId": "e8d6b26d-6ab5-4c4d-e964-b47c1a7de135"
      },
      "outputs": [
        {
          "output_type": "stream",
          "name": "stdout",
          "text": [
            "Chhavi\n"
          ]
        }
      ],
      "source": [
        "#print\n",
        "print(\"Chhavi\")"
      ]
    },
    {
      "cell_type": "code",
      "source": [
        "#This is a comment\n",
        "print(\"Chhavi\")"
      ],
      "metadata": {
        "colab": {
          "base_uri": "https://localhost:8080/"
        },
        "id": "8fX_7B28rTTE",
        "outputId": "664c15f9-4320-47ad-e042-59ca762af491"
      },
      "execution_count": 24,
      "outputs": [
        {
          "output_type": "stream",
          "name": "stdout",
          "text": [
            "Chhavi\n"
          ]
        }
      ]
    },
    {
      "cell_type": "code",
      "source": [
        "#declaring variables\n",
        "num1 = 5\n",
        "str1 = \"John\"\n",
        "print(num1)\n",
        "print(str1)"
      ],
      "metadata": {
        "colab": {
          "base_uri": "https://localhost:8080/"
        },
        "id": "WgcDrPS0rntE",
        "outputId": "8ec62325-e9a1-42e6-9510-95f22a212491"
      },
      "execution_count": 25,
      "outputs": [
        {
          "output_type": "stream",
          "name": "stdout",
          "text": [
            "5\n",
            "John\n"
          ]
        }
      ]
    },
    {
      "cell_type": "code",
      "source": [
        "#types of variable\n",
        "var1 = str(3) \n",
        "var2 = int(3)   \n",
        "var3 = float(3)  \n",
        "print(var3)"
      ],
      "metadata": {
        "colab": {
          "base_uri": "https://localhost:8080/"
        },
        "id": "oR620Xu_roxD",
        "outputId": "4a94f910-2c04-4093-ecfd-e0f2920efd8f"
      },
      "execution_count": 26,
      "outputs": [
        {
          "output_type": "stream",
          "name": "stdout",
          "text": [
            "3.0\n"
          ]
        }
      ]
    },
    {
      "cell_type": "code",
      "source": [
        "#string type\n",
        "name = \"Chhavi\"\n",
        "print(type(name))"
      ],
      "metadata": {
        "colab": {
          "base_uri": "https://localhost:8080/"
        },
        "id": "aWdlBsNrrosP",
        "outputId": "1afc7860-59da-4a93-f19f-fa76d3582889"
      },
      "execution_count": 27,
      "outputs": [
        {
          "output_type": "stream",
          "name": "stdout",
          "text": [
            "<class 'str'>\n"
          ]
        }
      ]
    },
    {
      "cell_type": "code",
      "source": [
        "#variable naming\n",
        "myFirstName = \"Chhavi\"  #Camel\n",
        "MyFirstName = \"Chhavi\"  #Pascal\n",
        "my_first_name = \"Chhavi\" #Snake"
      ],
      "metadata": {
        "id": "ee30_BeOromI"
      },
      "execution_count": 28,
      "outputs": []
    },
    {
      "cell_type": "code",
      "source": [
        "#multiple assignment\n",
        "name1, name2 = \"Chhavi\", \"Annnaya\"\n",
        "print(name1)\n",
        "print(name2)"
      ],
      "metadata": {
        "colab": {
          "base_uri": "https://localhost:8080/"
        },
        "id": "W0Sjss6krofK",
        "outputId": "3c973fb3-22cd-4eb1-9b20-a821ee8a71ce"
      },
      "execution_count": 29,
      "outputs": [
        {
          "output_type": "stream",
          "name": "stdout",
          "text": [
            "Chhavi\n",
            "Annnaya\n"
          ]
        }
      ]
    },
    {
      "cell_type": "code",
      "source": [
        "#Global Variable\n",
        "x = \"chhavi\"\n",
        "\n",
        "def myfunc():\n",
        "  print(\"Name : \" + x)\n",
        "\n",
        "myfunc()"
      ],
      "metadata": {
        "colab": {
          "base_uri": "https://localhost:8080/"
        },
        "id": "zRsnmHugroSm",
        "outputId": "c47648d2-d00c-4d91-8ed3-13c12f84ee04"
      },
      "execution_count": 30,
      "outputs": [
        {
          "output_type": "stream",
          "name": "stdout",
          "text": [
            "Name : chhavi\n"
          ]
        }
      ]
    },
    {
      "cell_type": "code",
      "source": [
        "#type()\n",
        "num1 = 10\n",
        "num2 = 7.0\n",
        "num3 = 7+2j\n",
        "print(\"Type of num1 : \", type(num1))\n",
        "print(\"Type of num2 : \", type(num2))\n",
        "print(\"Type of num3 : \", type(num3))"
      ],
      "metadata": {
        "colab": {
          "base_uri": "https://localhost:8080/"
        },
        "id": "mIlJa2Ras1HN",
        "outputId": "bca830f1-daa9-4d6f-8ff5-658247d87fd1"
      },
      "execution_count": 31,
      "outputs": [
        {
          "output_type": "stream",
          "name": "stdout",
          "text": [
            "Type of num1 :  <class 'int'>\n",
            "Type of num2 :  <class 'float'>\n",
            "Type of num3 :  <class 'complex'>\n"
          ]
        }
      ]
    },
    {
      "cell_type": "code",
      "source": [
        "#list\n",
        "names = [\"Chhavi\", \"Annanya\", \"Khushi\"]\n",
        "print(names[0])"
      ],
      "metadata": {
        "colab": {
          "base_uri": "https://localhost:8080/"
        },
        "id": "jTLADEWxs1LO",
        "outputId": "f1f4ba75-c1f0-4809-f900-904ce87eb4a3"
      },
      "execution_count": 32,
      "outputs": [
        {
          "output_type": "stream",
          "name": "stdout",
          "text": [
            "Chhavi\n"
          ]
        }
      ]
    },
    {
      "cell_type": "code",
      "source": [
        "#type casting\n",
        "z = int(\"3\") # z will be 3\n",
        "print(type(z))"
      ],
      "metadata": {
        "colab": {
          "base_uri": "https://localhost:8080/"
        },
        "id": "b3KjssJ2s1P8",
        "outputId": "e25ca0ad-0f80-416d-dd3a-fb21eb20e588"
      },
      "execution_count": 33,
      "outputs": [
        {
          "output_type": "stream",
          "name": "stdout",
          "text": [
            "<class 'int'>\n"
          ]
        }
      ]
    },
    {
      "cell_type": "code",
      "source": [
        "#Boolean\n",
        "num1 = 20\n",
        "num2 = 33\n",
        "\n",
        "if num1 > num2:\n",
        "  print(\"b is greater than a\")\n",
        "else:\n",
        "  print(\"b is not greater than a\")"
      ],
      "metadata": {
        "colab": {
          "base_uri": "https://localhost:8080/"
        },
        "id": "PN1WxQ5Cs1Tz",
        "outputId": "6e9b5552-8321-4147-dad4-154c88de25f1"
      },
      "execution_count": 34,
      "outputs": [
        {
          "output_type": "stream",
          "name": "stdout",
          "text": [
            "b is not greater than a\n"
          ]
        }
      ]
    },
    {
      "cell_type": "code",
      "source": [
        "print(bool(\"Hello\"))"
      ],
      "metadata": {
        "colab": {
          "base_uri": "https://localhost:8080/"
        },
        "id": "hak8ns6FvYqI",
        "outputId": "657db8d7-25c4-4a3d-9a91-a23673db4564"
      },
      "execution_count": 35,
      "outputs": [
        {
          "output_type": "stream",
          "name": "stdout",
          "text": [
            "True\n"
          ]
        }
      ]
    },
    {
      "cell_type": "code",
      "source": [
        "#tuple\n",
        "product = ('Microsoft', 'Xbox', 499.99)\n",
        "print(product[0])  \n",
        "print(product[1])  \n",
        "print(product[2])\n",
        "print(product)"
      ],
      "metadata": {
        "colab": {
          "base_uri": "https://localhost:8080/"
        },
        "id": "rNKCIE4IvYsY",
        "outputId": "3efbfec7-07cd-4b5e-aeb2-f87fb0ed9b73"
      },
      "execution_count": 37,
      "outputs": [
        {
          "output_type": "stream",
          "name": "stdout",
          "text": [
            "Microsoft\n",
            "Xbox\n",
            "499.99\n",
            "('Microsoft', 'Xbox', 499.99)\n"
          ]
        }
      ]
    },
    {
      "cell_type": "code",
      "source": [
        "#sets\n",
        "names = {\"chhavi\", \"annanya\", \"ram\"}\n",
        "print(names)"
      ],
      "metadata": {
        "colab": {
          "base_uri": "https://localhost:8080/"
        },
        "id": "4UfOvTfCvYuZ",
        "outputId": "6b590464-19d7-4007-f4c8-9ac3f20be94f"
      },
      "execution_count": 39,
      "outputs": [
        {
          "output_type": "stream",
          "name": "stdout",
          "text": [
            "{'annanya', 'chhavi', 'ram'}\n"
          ]
        }
      ]
    },
    {
      "cell_type": "code",
      "source": [
        "#dictionary (key:value pair)\n",
        "mydict = {\n",
        "  \"name\": \"Chhavi\",\n",
        "  \"age\": 21,\n",
        "  \"year\": 2001\n",
        "}\n",
        "print(mydict)"
      ],
      "metadata": {
        "colab": {
          "base_uri": "https://localhost:8080/"
        },
        "id": "Bq3A-y42vYwP",
        "outputId": "634e7c11-b111-4dcb-f9b9-6b304482d1dc"
      },
      "execution_count": 40,
      "outputs": [
        {
          "output_type": "stream",
          "name": "stdout",
          "text": [
            "{'name': 'Chhavi', 'age': 21, 'year': 2001}\n"
          ]
        }
      ]
    },
    {
      "cell_type": "code",
      "source": [
        "#if elif else\n",
        "a = 200\n",
        "b = 33\n",
        "if b > a:\n",
        "  print(\"b is greater than a\")\n",
        "elif a == b:\n",
        "  print(\"a and b are equal\")\n",
        "else:\n",
        "  print(\"a is greater than b\")\n",
        "#short way of writing if\n",
        "#if a > b: print(\"a is greater than b\")"
      ],
      "metadata": {
        "colab": {
          "base_uri": "https://localhost:8080/"
        },
        "id": "_KjOrNOKvYx8",
        "outputId": "b30e0621-ad74-4200-e3ce-186ab1bde9a0"
      },
      "execution_count": 43,
      "outputs": [
        {
          "output_type": "stream",
          "name": "stdout",
          "text": [
            "a is greater than b\n"
          ]
        }
      ]
    },
    {
      "cell_type": "code",
      "source": [
        "#while loop\n",
        "i = 1\n",
        "while i < 6:\n",
        "  print(i)\n",
        "  i += 1"
      ],
      "metadata": {
        "colab": {
          "base_uri": "https://localhost:8080/"
        },
        "id": "aSctkFGwvYzd",
        "outputId": "43707cab-08bc-4c3b-ab83-ed4ca15a3d7e"
      },
      "execution_count": 44,
      "outputs": [
        {
          "output_type": "stream",
          "name": "stdout",
          "text": [
            "1\n",
            "2\n",
            "3\n",
            "4\n",
            "5\n"
          ]
        }
      ]
    },
    {
      "cell_type": "code",
      "source": [
        "#while with else\n",
        "i = 1\n",
        "while i < 6:\n",
        "  print(i)\n",
        "  i += 1\n",
        "else:\n",
        "  print(\"i is no longer less than 6\")"
      ],
      "metadata": {
        "colab": {
          "base_uri": "https://localhost:8080/"
        },
        "id": "C7WvqPAavY30",
        "outputId": "8e945576-ea0f-46c3-b695-30c52c1cd4ca"
      },
      "execution_count": 45,
      "outputs": [
        {
          "output_type": "stream",
          "name": "stdout",
          "text": [
            "1\n",
            "2\n",
            "3\n",
            "4\n",
            "5\n",
            "i is no longer less than 6\n"
          ]
        }
      ]
    },
    {
      "cell_type": "code",
      "source": [
        "#for loop\n",
        "for x in \"Chhavi\":\n",
        "  print(x)"
      ],
      "metadata": {
        "colab": {
          "base_uri": "https://localhost:8080/"
        },
        "id": "GemOe2_mvY7B",
        "outputId": "c04c847a-b6b1-4019-b6e3-bf8a2c12fd3f"
      },
      "execution_count": 46,
      "outputs": [
        {
          "output_type": "stream",
          "name": "stdout",
          "text": [
            "C\n",
            "h\n",
            "h\n",
            "a\n",
            "v\n",
            "i\n"
          ]
        }
      ]
    },
    {
      "cell_type": "code",
      "source": [
        "#functions\n",
        "#simple function\n",
        "def my_function():\n",
        "  print(\"Hello Chhavi\")\n",
        "\n",
        "my_function()"
      ],
      "metadata": {
        "colab": {
          "base_uri": "https://localhost:8080/"
        },
        "id": "LVjroxTZx4bh",
        "outputId": "4b440215-17e9-4692-9cff-cf40b08b9cb9"
      },
      "execution_count": 48,
      "outputs": [
        {
          "output_type": "stream",
          "name": "stdout",
          "text": [
            "Hello Chhavi\n"
          ]
        }
      ]
    },
    {
      "cell_type": "code",
      "source": [
        "#function with ARGUMENT\n",
        "def my_function(fname, lname):\n",
        "  print(fname + \" \" + lname)\n",
        "\n",
        "my_function(\"Chhavi\", \"Garg\")\n"
      ],
      "metadata": {
        "colab": {
          "base_uri": "https://localhost:8080/"
        },
        "id": "P5k855GPx4dh",
        "outputId": "2cc37e03-fa71-409c-8f5e-846eb0134376"
      },
      "execution_count": 49,
      "outputs": [
        {
          "output_type": "stream",
          "name": "stdout",
          "text": [
            "Chhavi Garg\n"
          ]
        }
      ]
    },
    {
      "cell_type": "code",
      "source": [
        "# Function with Default parameter value\n",
        "\n",
        "def default_parameter(name = \"Chhavi\"):\n",
        "  print(\"Name \" + name)\n",
        "\n",
        "default_parameter(\"Annanya\")\n",
        "default_parameter(\"John\")\n",
        "default_parameter()"
      ],
      "metadata": {
        "colab": {
          "base_uri": "https://localhost:8080/"
        },
        "id": "xJaxwiiox4fb",
        "outputId": "f00dff05-7e63-4f8a-f0e4-779d794a4173"
      },
      "execution_count": 50,
      "outputs": [
        {
          "output_type": "stream",
          "name": "stdout",
          "text": [
            "Name Annanya\n",
            "Name John\n",
            "Name Chhavi\n"
          ]
        }
      ]
    },
    {
      "cell_type": "code",
      "source": [
        "# Recursive Functions\n",
        "\n",
        "def factorial(x):\n",
        "    if x == 1:\n",
        "        return 1\n",
        "    else:\n",
        "        return (x * factorial(x-1))\n",
        "\n",
        "\n",
        "num = 5\n",
        "print(\"Factorial :\", factorial(num))"
      ],
      "metadata": {
        "colab": {
          "base_uri": "https://localhost:8080/"
        },
        "id": "1IBAxb8sx4hA",
        "outputId": "8d463856-65f4-46b0-f05a-aa38208bb774"
      },
      "execution_count": 51,
      "outputs": [
        {
          "output_type": "stream",
          "name": "stdout",
          "text": [
            "Factorial : 120\n"
          ]
        }
      ]
    },
    {
      "cell_type": "code",
      "source": [
        "#lambda function\n",
        "double = lambda x: x+2\n",
        "print(double(5))"
      ],
      "metadata": {
        "colab": {
          "base_uri": "https://localhost:8080/"
        },
        "id": "HKUZeMFxx4jP",
        "outputId": "31979840-b938-4937-ddf6-a37a73a7d1a0"
      },
      "execution_count": 52,
      "outputs": [
        {
          "output_type": "stream",
          "name": "stdout",
          "text": [
            "7\n"
          ]
        }
      ]
    },
    {
      "cell_type": "code",
      "source": [
        "#Arrays\n",
        "cars = [\"Ford\", \"Volvo\", \"BMW\"]\n",
        "arr_len = len(cars)\n",
        "for x in cars:\n",
        "  print(x)\n",
        "print(arr_len)"
      ],
      "metadata": {
        "colab": {
          "base_uri": "https://localhost:8080/"
        },
        "id": "h3m12FZJzR_S",
        "outputId": "14025506-68af-480d-ef32-80c9ea41378c"
      },
      "execution_count": 53,
      "outputs": [
        {
          "output_type": "stream",
          "name": "stdout",
          "text": [
            "Ford\n",
            "Volvo\n",
            "BMW\n",
            "3\n"
          ]
        }
      ]
    },
    {
      "cell_type": "code",
      "source": [
        "#Classes and Objects\n",
        "class People:\n",
        "  def __init__(self, name, year):\n",
        "    self.name = name\n",
        "    self.year = year\n",
        "\n",
        "p1 = People(\"Chhavi\", 2001)\n",
        "\n",
        "print(p1.name)\n",
        "print(p1.year)"
      ],
      "metadata": {
        "colab": {
          "base_uri": "https://localhost:8080/"
        },
        "id": "lB4oiGHGzSCN",
        "outputId": "e69ea6b1-59a7-4d91-fee9-b3c1df8af3b1"
      },
      "execution_count": 54,
      "outputs": [
        {
          "output_type": "stream",
          "name": "stdout",
          "text": [
            "Chhavi\n",
            "2001\n"
          ]
        }
      ]
    },
    {
      "cell_type": "code",
      "source": [
        "#methods inside class\n",
        "class People:\n",
        "  def __init__(self, name, year):\n",
        "    self.name = name\n",
        "    self.year = year\n",
        "  def myfunc(self):\n",
        "    print(\"Name : \" + self.name)\n",
        "\n",
        "p1 = People(\"John\", 36)\n",
        "p1.myfunc()"
      ],
      "metadata": {
        "colab": {
          "base_uri": "https://localhost:8080/"
        },
        "id": "tGFJJJn6zSGE",
        "outputId": "c6f15cee-ce62-416f-f0c5-89806a233418"
      },
      "execution_count": 55,
      "outputs": [
        {
          "output_type": "stream",
          "name": "stdout",
          "text": [
            "Name : John\n"
          ]
        }
      ]
    },
    {
      "cell_type": "code",
      "source": [
        "#Inheritance\n",
        "class Car:\n",
        "    \n",
        "    def __init__(self):\n",
        "        print(\"Car is ready\")\n",
        "\n",
        "    def whoisThis(self):\n",
        "        print(\"Car\")\n",
        "\n",
        "    def drive(self):\n",
        "        print(\"Drive faster\")\n",
        "\n",
        "# child class\n",
        "class Ford(Car):\n",
        "    def __init__(self):\n",
        "        super().__init__()\n",
        "        print(\"Ford is ready\")\n",
        "\n",
        "    def whoisThis(self):\n",
        "        print(\"Ford\")\n",
        "\n",
        "    def drivefast(self):\n",
        "        print(\"Drive Ford faster\")\n",
        "\n",
        "car = Ford()\n",
        "car.whoisThis()\n",
        "car.drive()\n",
        "car.drivefast()"
      ],
      "metadata": {
        "colab": {
          "base_uri": "https://localhost:8080/"
        },
        "id": "qxIpIFH7zSJp",
        "outputId": "f10c9871-61bf-4aab-e954-415b3020f4ab"
      },
      "execution_count": 59,
      "outputs": [
        {
          "output_type": "stream",
          "name": "stdout",
          "text": [
            "Car is ready\n",
            "Ford is ready\n",
            "Ford\n",
            "Drive faster\n",
            "Drive Ford faster\n"
          ]
        }
      ]
    },
    {
      "cell_type": "code",
      "source": [],
      "metadata": {
        "id": "PIVXxr-ozSLX"
      },
      "execution_count": null,
      "outputs": []
    }
  ]
}